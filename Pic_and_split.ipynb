{
 "cells": [
  {
   "cell_type": "markdown",
   "id": "e53baa28-b13b-450a-becb-cd8f0852f35c",
   "metadata": {},
   "source": [
    "В данном файле реализуем следующие этапы работы с данными:  \n",
    "- Создание изображений в соответствии  с полученной от классификатора разметкой.  \n",
    "- Разбиение датасета из картинок на тренировочную, валидационную и тестовую выборки."
   ]
  },
  {
   "cell_type": "code",
   "execution_count": 1,
   "id": "c612b204-86a8-46ee-a7c0-f7c339b9bf4f",
   "metadata": {},
   "outputs": [],
   "source": [
    "import pandas as pd\n",
    "import numpy as np\n",
    "import matplotlib.pyplot as plt\n",
    "import seaborn as sns\n",
    "from datetime import datetime, timedelta\n",
    "import os\n",
    "from pathlib import Path\n",
    "from PIL import Image, ImageDraw\n",
    "import random\n",
    "import shutil \n",
    "%matplotlib inline"
   ]
  },
  {
   "cell_type": "markdown",
   "id": "607f049e-f2e9-4a36-83ff-01d25c2dea02",
   "metadata": {},
   "source": [
    "Читаем данные из точки сохранения 2.  \n",
    "Также сделаем маленькое преобразование с колонкой `dt15`. Дальше будет удобнее, чтобы был формат datetime."
   ]
  },
  {
   "cell_type": "code",
   "execution_count": 2,
   "id": "4ab5ec55-c3ac-4c1e-8998-78dfa2cbaa9a",
   "metadata": {},
   "outputs": [],
   "source": [
    "df = pd.read_csv('df_class.csv', encoding='windows-1251', sep=';')\n",
    "df['dt15'] = pd.to_datetime(df['Date'].astype(str) + ' ' + df['Time15'].astype(str))"
   ]
  },
  {
   "cell_type": "markdown",
   "id": "c07a3641-8e9a-41e9-8e4d-08207faa90b9",
   "metadata": {},
   "source": [
    "### Этап 1. Создаем изображения.  \n",
    "Будем рисовать изображение для «окна» данных размером 60 строк, т.е. 60 минут. При этом для создания каждого следующего изображения будем сдвигаться вперед на 15-мин интервал и вновь рисовать окно размера 60-минут."
   ]
  },
  {
   "cell_type": "markdown",
   "id": "728e7972-e798-4c9d-af85-d4117a60697b",
   "metadata": {},
   "source": [
    "Для хранения наших изображений создадим папки с соответствующими классами."
   ]
  },
  {
   "cell_type": "code",
   "execution_count": 15,
   "id": "2cc75829-ac5e-49c1-adf7-288048f157e8",
   "metadata": {},
   "outputs": [],
   "source": [
    "dir_name = Path('All_pic')\n",
    "class_names = ['1_buy', '2_nothing', '3_sell']\n",
    "for class_name in class_names:\n",
    "    (dir_name / class_name).mkdir(parents=True, exist_ok=True)"
   ]
  },
  {
   "cell_type": "markdown",
   "id": "d96cc9c1-889d-4646-8f22-8d60a60c6348",
   "metadata": {},
   "source": [
    "На этом этапе рисовать будем изображение цены закрытия, скользящее среднее с периодом 20 и индикатор Болинджера. Сохранять будем изображение 230*228 пикселей в формате RGB.  \n",
    "Рисовалка `plot_pic` в Matplotlib с пересохранением в RGB. Для нашего датасета будет работать примерно 120 сек - около 2-минут.  "
   ]
  },
  {
   "cell_type": "code",
   "execution_count": 16,
   "id": "546d71da-3a16-413b-b7b2-03d42a9a1589",
   "metadata": {},
   "outputs": [],
   "source": [
    "def plot_pic():\n",
    "    x = np.arange(len(window))\n",
    "    y = window['Close'].values\n",
    "    BBup = window['BB_up'].values\n",
    "    BBlow = window['BB_low'].values\n",
    "    ma20 = window['ma_20'].values\n",
    "    # ma40 = window['ma_40'].values\n",
    "    \n",
    "    plt.figure(figsize=(2.8, 2.8), dpi=106)\n",
    "    plt.plot(x, y, color='green')\n",
    "    plt.plot(x, BBup, color='blue')\n",
    "    plt.plot(x, BBlow, color='blue')\n",
    "    plt.plot(x, ma20, color='brown')\n",
    "    # plt.plot(x, ma40, color='gray')\n",
    "\n",
    "    ax = plt.gca()\n",
    "    ax.set_axis_off()\n",
    "    ax.axes.xaxis.set_visible(False)\n",
    "    ax.axes.yaxis.set_visible(False)\n",
    "\n",
    "    last_row = window.iloc[-1]\n",
    "    date_str = last_row['dt15'].strftime('%Y-%m-%d_%H-%M-%S')\n",
    "    fname = f\"SBER-{date_str}.png\"\n",
    "    y_class = int(last_row['Y'])\n",
    "\n",
    "    class_folder = class_names[y_class - 1]  # Выбираем папку по классу\n",
    "    plot_path = dir_name / class_folder / fname\n",
    "\n",
    "    # Сохранение изображения и конвертация в RGB\n",
    "    plt.savefig(plot_path, bbox_inches='tight', pad_inches=0)\n",
    "    plt.close('all')\n",
    "\n",
    "    # Конвертация изображения в RGB и пересохранение\n",
    "    img = Image.open(plot_path).convert('RGB')\n",
    "    img.save(plot_path, format=\"PNG\")    "
   ]
  },
  {
   "cell_type": "markdown",
   "id": "26ae001b-5091-4588-ad95-802a3c626e44",
   "metadata": {},
   "source": [
    "Для класса 2 (около 9600 экз) рисую только около 1000 случайных картинок, чтобы экономить время. Иначе будет рисовать 5-6 минут."
   ]
  },
  {
   "cell_type": "code",
   "execution_count": 11,
   "id": "ce3be536-93d7-4d66-ab65-867f7408dc63",
   "metadata": {},
   "outputs": [],
   "source": [
    "# Стартовая дата (с запасом 60 строк до начала датасета)\n",
    "# dt15_unique = df[df.datetime >= '2020-01-06 11:00:00']['dt15'].unique()"
   ]
  },
  {
   "cell_type": "code",
   "execution_count": 17,
   "id": "b2e187b1-eced-4374-a9d1-e11fab66c578",
   "metadata": {},
   "outputs": [],
   "source": [
    "import matplotlib\n",
    "matplotlib.use('Agg')\n",
    "rnd = list(np.random.randint(1, 9600, 1000))                              # Список из 1000 случайных значений (для кл. 2)\n",
    "counter = 0\n",
    "period = 60                                                               # для окна размером 60 строк - 60 мин.\n",
    "dt15_unique = df[df.datetime >= '2020-01-06 11:00:00']['dt15'].unique()   # Старт дата, чт мож было строить окно размера старт - 60\n",
    "for i in dt15_unique: \n",
    "    dt15_index = df.index[df.dt15 == i][0]                                # Берем первый индекс для i из dt15_unique\n",
    "    window = df.iloc[dt15_index - period: dt15_index]                     # Строим окно размером 60 строк - 60 мин.\n",
    "    Y_class = int(window.iloc[-1].Y) \n",
    "\n",
    "    if Y_class == 2:\n",
    "        counter += 1\n",
    "    if Y_class == 1 or Y_class == 3 or counter in rnd:\n",
    "        plot_pic()                                                        # Вызываем нашу функцию для рисования.\n"
   ]
  },
  {
   "cell_type": "markdown",
   "id": "2be61355-b36d-4140-aa59-5f250fa64e62",
   "metadata": {},
   "source": [
    "Этап 1 на этом завершен. Далее созданные картинки надо разделить на трейн, валидацию и тест."
   ]
  },
  {
   "cell_type": "markdown",
   "id": "7d4658de-dd7f-463f-a2ea-836d74df75da",
   "metadata": {},
   "source": [
    "### Этап 2. Разделение выборки на train, validation, test"
   ]
  },
  {
   "cell_type": "markdown",
   "id": "85174078-d9ea-4f2b-abe0-e45d2b6b153f",
   "metadata": {},
   "source": [
    "Сначала глянем сколько имеется файлов каждого класса. Найдем минимум. Исходя из него прикинем как разделить выборку.\n",
    "Пусть пропорция для train/validation/test будет такой: 70/15/15."
   ]
  },
  {
   "cell_type": "code",
   "execution_count": 18,
   "id": "985caa32-63b5-4799-bcd2-366f3945d4f4",
   "metadata": {},
   "outputs": [
    {
     "name": "stdout",
     "output_type": "stream",
     "text": [
      "[753, 952, 789]\n",
      "train:527, test:113, validation:113, sum_all:753\n"
     ]
    }
   ],
   "source": [
    "data_root = 'All_pic'\n",
    "c = []\n",
    "for i in os.listdir(data_root):\n",
    "    dir = os.path.join(data_root, i)\n",
    "    c.append(len(os.listdir(dir)))\n",
    "c_min = min(c)\n",
    "tr = round(c_min / 100 * 70)\n",
    "tst = round(c_min / 100 * 15)\n",
    "vld = round(c_min / 100 * 15)\n",
    "print(c)\n",
    "print(f\"train:{tr}, test:{tst}, validation:{vld}, sum_all:{sum([tr, tst, vld])}\")"
   ]
  },
  {
   "cell_type": "markdown",
   "id": "069e60c6-9e83-4cd7-b3a1-b408ba28a203",
   "metadata": {},
   "source": [
    "Теперь создадим новую папку `Pic_for_CNN` с нужным количеством картинок для train, validation, test.  \n",
    "Тут пока **вручную** пропишем кол-во. Пусть оно будет четным, для более удобного деления на батчи, на этапе обучения нейросети.  \n",
    "`split_counts = {'train': 526, 'validation': 112, 'test': 112}`. Случайным образом отберем картинки в нужные директории."
   ]
  },
  {
   "cell_type": "code",
   "execution_count": 19,
   "id": "686ef126-7ec2-4f2b-b3fe-744bd725a666",
   "metadata": {},
   "outputs": [
    {
     "name": "stdout",
     "output_type": "stream",
     "text": [
      "Готово!\n"
     ]
    }
   ],
   "source": [
    "# Пути к исходной и целевой директории\n",
    "src_dir = 'All_pic'\n",
    "dest_dir = 'Pic_for_CNN'\n",
    "\n",
    "# Категории классов\n",
    "categories = ['1_buy', '2_nothing', '3_sell']\n",
    "\n",
    "# Количество изображений для каждого набора\n",
    "split_counts = {'train': 526, 'validation': 112, 'test': 112}\n",
    "\n",
    "# Создание целевой структуры папок\n",
    "for split in ['train', 'validation', 'test']:\n",
    "    for category in categories:\n",
    "        os.makedirs(os.path.join(dest_dir, split, category), exist_ok=True)\n",
    "\n",
    "# Разделение изображений\n",
    "for category in categories:\n",
    "    # Получаем список всех изображений в папке\n",
    "    img_list = os.listdir(os.path.join(src_dir, category))\n",
    "    \n",
    "    # Перемешиваем изображения для случайного выбора\n",
    "    random.shuffle(img_list)\n",
    "    \n",
    "    start = 0\n",
    "    for split, count in split_counts.items():\n",
    "        selected_images = img_list[start:start + count]\n",
    "        start += count\n",
    "        \n",
    "        for img in selected_images:\n",
    "            src_path = os.path.join(src_dir, category, img)\n",
    "            dest_path = os.path.join(dest_dir, split, category, img)\n",
    "            \n",
    "            shutil.copy(src_path, dest_path)  \n",
    "\n",
    "print(\"Готово!\")"
   ]
  },
  {
   "cell_type": "code",
   "execution_count": null,
   "id": "7de0a70a-9cfa-41b3-aff1-6597029871a4",
   "metadata": {},
   "outputs": [],
   "source": []
  },
  {
   "cell_type": "markdown",
   "id": "d877a477-38dd-4911-90cc-d97beab5f87f",
   "metadata": {},
   "source": [
    "Этап 2 на этом завершен. Теперь у нас имеется полностью готовый датасет из картинок, на котором мы будем пытаться обучить нейросеть. Сделаем это в новом файле - `PatternCNN_colab`."
   ]
  },
  {
   "cell_type": "code",
   "execution_count": null,
   "id": "05dec330-cb77-4619-879d-565b4a3e0bd5",
   "metadata": {},
   "outputs": [],
   "source": []
  }
 ],
 "metadata": {
  "kernelspec": {
   "display_name": "Python 3 (ipykernel)",
   "language": "python",
   "name": "python3"
  },
  "language_info": {
   "codemirror_mode": {
    "name": "ipython",
    "version": 3
   },
   "file_extension": ".py",
   "mimetype": "text/x-python",
   "name": "python",
   "nbconvert_exporter": "python",
   "pygments_lexer": "ipython3",
   "version": "3.9.10"
  }
 },
 "nbformat": 4,
 "nbformat_minor": 5
}
