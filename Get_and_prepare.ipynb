{
 "cells": [
  {
   "cell_type": "markdown",
   "id": "e53baa28-b13b-450a-becb-cd8f0852f35c",
   "metadata": {},
   "source": [
    "В данном файле реализуем 2 этапа работы с данными: получение данных и первоначальная подготовка. "
   ]
  },
  {
   "cell_type": "code",
   "execution_count": 2,
   "id": "c612b204-86a8-46ee-a7c0-f7c339b9bf4f",
   "metadata": {},
   "outputs": [],
   "source": [
    "import pandas as pd\n",
    "import numpy as np\n",
    "import matplotlib.pyplot as plt\n",
    "import seaborn as sns\n",
    "from datetime import datetime, timedelta\n",
    "import os\n",
    "from pathlib import Path\n",
    "from PIL import Image, ImageDraw\n",
    "import random\n",
    "import shutil \n",
    "%matplotlib inline"
   ]
  },
  {
   "cell_type": "markdown",
   "id": "0c7c810b-eab9-4da8-9b48-a0f49c7ad669",
   "metadata": {},
   "source": [
    "### Этап 1. Получение данных "
   ]
  },
  {
   "cell_type": "markdown",
   "id": "e8dd403b-3747-4e72-b875-89738e3e4305",
   "metadata": {},
   "source": [
    "В данном проекте будем работать с котировками SBER, за 2020 год, тайм фрейм 1 минута.  \n",
    "Реализуем простую функцию для скачивания котировок - `get_moex_data`"
   ]
  },
  {
   "cell_type": "code",
   "execution_count": 3,
   "id": "0ba0d9ba-22fb-4054-9fb5-c7acd02412c0",
   "metadata": {},
   "outputs": [],
   "source": [
    "import requests\n",
    "\n",
    "def get_moex_data(ticker, start_date, end_date, timeframe):\n",
    "    url = f\"https://iss.moex.com/iss/engines/stock/markets/shares/boards/TQBR/securities/{ticker}/candles.json\"\n",
    "    all_data = []                  # Список для хранения всех данных\n",
    "    start = 0                      # Начальная позиция для пагинации\n",
    "    limit = 500                    # Максимальное количество строк за один запрос\n",
    "\n",
    "    while True:                                                              \n",
    "        params = {'from': start_date, 'till': end_date, 'interval': timeframe, 'start': start, 'limit': limit}\n",
    "        response = requests.get(url, params=params)\n",
    "        data = response.json()\n",
    "        \n",
    "        candles = data['candles']['data']\n",
    "        if not candles:            # Если данных больше нет, выходим из цикла\n",
    "            break\n",
    "        \n",
    "        all_data.extend(candles)   # Добавляем данные в общий список\n",
    "        start += limit             # Увеличиваем начальную позицию для следующего запроса\n",
    "\n",
    "    # Создаем DataFrame из всех данных\n",
    "    columns = data['candles']['columns']\n",
    "    df = pd.DataFrame(all_data, columns=columns)\n",
    "    \n",
    "    return df"
   ]
  },
  {
   "cell_type": "markdown",
   "id": "add4c6eb-3230-44c3-864e-aca2213e63b7",
   "metadata": {},
   "source": [
    "Получим и сохраним данные в формате CSV."
   ]
  },
  {
   "cell_type": "code",
   "execution_count": 5,
   "id": "b6a1185a-0224-436b-bc14-c501d03a7c01",
   "metadata": {},
   "outputs": [
    {
     "name": "stdout",
     "output_type": "stream",
     "text": [
      "Загружено 169932 строк.\n"
     ]
    }
   ],
   "source": [
    "# Пример вызова с таймфреймом 1 минута\n",
    "df = get_moex_data('SBER', '2020-01-01', '2020-12-31', timeframe=1)\n",
    "df.to_csv(\"2020_SBER.csv\", index=False, sep=';')\n",
    "print(f\"Загружено {len(df)} строк.\")"
   ]
  },
  {
   "cell_type": "markdown",
   "id": "c43301ef-9014-43e7-ba91-5e4b9d7d8f6d",
   "metadata": {},
   "source": [
    "Итак, данные для дальнейшей работы получены, этап 1 на этом завершен. Далее будем работать с сохраненным датасетом - `\"2020_SBER.csv\"`"
   ]
  },
  {
   "cell_type": "markdown",
   "id": "2b17c459-7409-413f-b4d8-e9aeb9af075b",
   "metadata": {},
   "source": [
    "### Этап 2. Предобработка данных  \n",
    "Данный этап, возможно, самый сложный во всем проекте. Можно выделить 3 подэтапа:  \n",
    "- 2.1. Работа со временем котировок\n",
    "- 2.2. Добавление дополнительной информации (скользящие средние и т.п.)\n",
    "- 2.3. Разбиение на классы"
   ]
  },
  {
   "cell_type": "markdown",
   "id": "3268e98f-f0d7-4637-9506-1bc16d56dee9",
   "metadata": {},
   "source": [
    "**2.1. Работа со временем котировок**  \n",
    "Изменения ниже нужны для того, чтобы впоследствии более правильно рисовать изображения для новых 15-минутных интервалов.\n",
    "- Приводим минутное время к 15-минутным интервалам. Время интервала 18:45 - 18:50 отнесем к периоду 18:30.\n",
    "- Для времени аукциона закрытия 18:45 - надо удалить дубликаты строк с 'Open' == 'High' == 'Low' == 'Close'."
   ]
  },
  {
   "cell_type": "markdown",
   "id": "03203a63-ef99-4e9d-91dd-085af088ca9c",
   "metadata": {},
   "source": [
    "Считываем данные и заводим несколько новых колонок, для более удобной работы."
   ]
  },
  {
   "cell_type": "code",
   "execution_count": 8,
   "id": "7ea5920e-c8c1-47e7-9d9c-aa6885c87c97",
   "metadata": {},
   "outputs": [],
   "source": [
    "df = pd.read_csv('2020_SBER.csv', encoding='windows-1251', sep=';')"
   ]
  },
  {
   "cell_type": "code",
   "execution_count": 10,
   "id": "1c719bdd-2bc2-414b-aab9-5a438615b233",
   "metadata": {},
   "outputs": [],
   "source": [
    "df['datetime'] = pd.to_datetime(df['begin'])\n",
    "df['Date'] = df['datetime'].dt.date.astype(str)\n",
    "df['Time'] = df['datetime'].dt.time.astype(str)\n",
    "df = df.drop(['value', 'begin', 'end'], axis=1)\n",
    "df = df.rename(columns={'open': 'Open', 'close': 'Close', 'high': 'High', 'low': 'Low', 'volume': 'Vol'})"
   ]
  },
  {
   "cell_type": "code",
   "execution_count": 11,
   "id": "66ac5626-10ac-4db3-94f5-976dbeb3d55c",
   "metadata": {},
   "outputs": [],
   "source": [
    "# Убираем время 9:59\n",
    "df = df[df['Time'] != '09:59:00'].reset_index(drop=True)"
   ]
  },
  {
   "cell_type": "markdown",
   "id": "911b8759-836e-4dad-982f-d0bc37da9399",
   "metadata": {},
   "source": [
    "Приводим минутное время к 15-минутным интервалам. Время интервала 18:45 - 18:50 отнесем к периоду 18:30."
   ]
  },
  {
   "cell_type": "code",
   "execution_count": 12,
   "id": "8ea87dfd-15c0-4f6d-8333-03fae8a9eed0",
   "metadata": {},
   "outputs": [],
   "source": [
    "# Преобразуем Time в целочисленный формат hhmmss\n",
    "df['Time15'] = df['Time'].str.replace(':', '').astype(int)"
   ]
  },
  {
   "cell_type": "code",
   "execution_count": 13,
   "id": "ed6d9d07-9812-440e-af74-6ee86a37bc96",
   "metadata": {},
   "outputs": [],
   "source": [
    "# Просто костыль для создания списка всех интервалов времени, по типу (100000, 101500) и тд\n",
    "def time_ranger(a=100000, c=1500, d=5500, t=[]):    \n",
    "    for i in range(10, 24):\n",
    "        for _ in range(4):\n",
    "            p = [a, a + 1500]\n",
    "            if a % 10000 == 4500:\n",
    "                p = [a, a + 5500]\n",
    "            t.append(p)\n",
    "            if a % 10000 == 4500:\n",
    "                a += d\n",
    "            else:\n",
    "                a += c\n",
    "    return t\n",
    "t = time_ranger()\n",
    "t[34][-1] = 190000\n",
    "del t[35]\n",
    "# print(t)"
   ]
  },
  {
   "cell_type": "code",
   "execution_count": 14,
   "id": "90d8f6d3-e405-4466-9fab-48463acc8ae6",
   "metadata": {},
   "outputs": [],
   "source": [
    "import warnings\n",
    "warnings.filterwarnings('ignore', category=FutureWarning)\n",
    "pd.options.mode.chained_assignment = None"
   ]
  },
  {
   "cell_type": "code",
   "execution_count": 15,
   "id": "95c0c7e4-ea33-403d-9291-b9aaa963ded8",
   "metadata": {},
   "outputs": [],
   "source": [
    "# приводим мин время к 15 мин интервалам.\n",
    "for i in t:   \n",
    "    df.Time15[(df['Time15'] >= i[0]) & (df['Time15'] < i[1])] = i[0]  # Запись в столбец df['Time15']"
   ]
  },
  {
   "cell_type": "markdown",
   "id": "09c0b0fb-3f37-427a-9257-c7ab3ddea230",
   "metadata": {},
   "source": [
    "Для времени аукциона закрытия 18:45 удаляем дубликаты строк. Если ['Open', 'High', 'Low', 'Close'] следующей строки равны ['Open', 'High', 'Low', 'Close'] нашей, то удаляем из датасета дубликаты."
   ]
  },
  {
   "cell_type": "code",
   "execution_count": 16,
   "id": "692cc010-6fb4-40d7-822f-3ec0ff04e243",
   "metadata": {},
   "outputs": [],
   "source": [
    "df = df.drop_duplicates(subset=['Open', 'High', 'Low', 'Close'], keep='first')\n",
    "df.reset_index(drop=True, inplace=True)"
   ]
  },
  {
   "cell_type": "markdown",
   "id": "3c4ead56-b827-437e-804b-d8e55082d887",
   "metadata": {},
   "source": [
    "**2.2. Добавление дополнительной информации**.  \n",
    "Скользящие средние, дата-время 15-мин. интервалов, Bollinger Bands. Также колонку 'Y' для идентификации класса."
   ]
  },
  {
   "cell_type": "code",
   "execution_count": 17,
   "id": "650cd10d-c55d-41f1-b08b-5745b06b0672",
   "metadata": {},
   "outputs": [],
   "source": [
    "df['ma_20'] = round(df.Close.rolling(window=20).mean(), 2)\n",
    "df['ma_40'] = round(df.Close.rolling(window=40).mean(), 2)\n",
    "df['STD'] = round(df.Close.rolling(window=20).std(), 2)\n",
    "df['BB_up'] = round(df['ma_20'] + (2 * df['STD']), 2)\n",
    "df['BB_low'] = round(df['ma_20'] - (2 * df['STD']), 2)\n",
    "df['dt15'] = pd.to_datetime(df['Date'].astype(str) + ' ' + df['Time15'].astype(str))\n",
    "df['Y'] = 0"
   ]
  },
  {
   "cell_type": "code",
   "execution_count": 18,
   "id": "12908697-cb2e-406c-94fd-e61bc29f656b",
   "metadata": {},
   "outputs": [],
   "source": [
    "# df.head()"
   ]
  },
  {
   "cell_type": "code",
   "execution_count": 19,
   "id": "54a2b6d8-bc34-4520-8d7e-48485f0dbce4",
   "metadata": {},
   "outputs": [],
   "source": [
    "# df.columns"
   ]
  },
  {
   "cell_type": "code",
   "execution_count": 20,
   "id": "d6b09307-f19c-43a5-aa32-c250d3e04555",
   "metadata": {},
   "outputs": [],
   "source": [
    "df = df.reindex(columns=['Date', 'Time', 'datetime', 'Time15', 'dt15', 'Open', 'High', 'Low', \n",
    "                         'Close', 'Vol', 'ma_20', 'ma_40', 'STD', 'BB_up', 'BB_low', 'Y'])\n",
    "df = df.drop(['Vol', 'STD'], axis=1)"
   ]
  },
  {
   "cell_type": "markdown",
   "id": "61c2f306-6059-4f44-be35-e98ee81aff72",
   "metadata": {},
   "source": [
    "Поскольку завели скользящюю среднюю с периодом 40, то для первых строк значения будут Nan. Поэтому уберем первый день и начнем датасет с новой даты - `'2020-01-06 10:00:00'`."
   ]
  },
  {
   "cell_type": "code",
   "execution_count": 23,
   "id": "f4cdcf98-9b49-477f-af0d-804c5c852697",
   "metadata": {},
   "outputs": [],
   "source": [
    "df = df[df.datetime >= '2020-01-06 10:00:00']\n",
    "df = df.reset_index(drop=True)"
   ]
  },
  {
   "cell_type": "markdown",
   "id": "0e26f230-f071-41cb-9300-7fc17f7dcd4d",
   "metadata": {},
   "source": [
    "**Точка сохранения 1 и чтения из нее.**"
   ]
  },
  {
   "cell_type": "code",
   "execution_count": 24,
   "id": "19dd9b1c-92a0-4903-bb3a-b68fb41fdc40",
   "metadata": {},
   "outputs": [],
   "source": [
    "df.to_csv('temp.csv', index=False, sep=';')"
   ]
  },
  {
   "cell_type": "code",
   "execution_count": 25,
   "id": "bcb2ae04-c31d-4bbd-ab15-c28d57262646",
   "metadata": {},
   "outputs": [],
   "source": [
    "df = pd.read_csv('temp.csv', encoding='windows-1251', sep=';')"
   ]
  },
  {
   "cell_type": "code",
   "execution_count": null,
   "id": "2e501972-8b26-46c6-b23c-66f4d7093398",
   "metadata": {},
   "outputs": [],
   "source": []
  },
  {
   "cell_type": "markdown",
   "id": "b73532bd-b401-4293-9030-8fa40d46398b",
   "metadata": {},
   "source": [
    "**2.3. Разбиение на классы.**"
   ]
  },
  {
   "cell_type": "markdown",
   "id": "b4c8104a-1c84-4bfc-900b-354b5085cb7e",
   "metadata": {},
   "source": [
    "На данном этапе предстоит разметить наши 15-мин интервалы времени (`dt15`) на классы. Для этого создадим функцию `classifier`.  \n",
    "Суть разметки на классы состоит в том, чтобы отсеять «торговый шум». Функция `classifier` будет принимать датафрейм и коэфф которым будем отсеивать торг шум, например, `coef = 0.25`. А также стоп - коэф, например, `stop_coef = 0.1`.  \n",
    "Логика классификации такая:  \n",
    "- Если клоза следующей 15-мин свечи выше текущей и больше `coef`, а abs(лой) след не больше `stop_coef`, то класс 1 - уверенный рост\n",
    "- Если клоза следующей 15-мин свечи ниже текущей и меньше `-coef`, а хай след не больше `stop_coef`, то класс 3 - уверенное падение\n",
    "- Остальное, класс 2 - \"торговый шум\"."
   ]
  },
  {
   "cell_type": "code",
   "execution_count": 26,
   "id": "cc0f3ef9-20ee-47b5-9401-d644ab9d94c1",
   "metadata": {},
   "outputs": [
    {
     "data": {
      "text/html": [
       "<div>\n",
       "<style scoped>\n",
       "    .dataframe tbody tr th:only-of-type {\n",
       "        vertical-align: middle;\n",
       "    }\n",
       "\n",
       "    .dataframe tbody tr th {\n",
       "        vertical-align: top;\n",
       "    }\n",
       "\n",
       "    .dataframe thead th {\n",
       "        text-align: right;\n",
       "    }\n",
       "</style>\n",
       "<table border=\"1\" class=\"dataframe\">\n",
       "  <thead>\n",
       "    <tr style=\"text-align: right;\">\n",
       "      <th></th>\n",
       "      <th>Date</th>\n",
       "      <th>Time</th>\n",
       "      <th>datetime</th>\n",
       "      <th>Time15</th>\n",
       "      <th>dt15</th>\n",
       "      <th>Open</th>\n",
       "      <th>High</th>\n",
       "      <th>Low</th>\n",
       "      <th>Close</th>\n",
       "      <th>ma_20</th>\n",
       "      <th>ma_40</th>\n",
       "      <th>BB_up</th>\n",
       "      <th>BB_low</th>\n",
       "      <th>Y</th>\n",
       "    </tr>\n",
       "  </thead>\n",
       "  <tbody>\n",
       "    <tr>\n",
       "      <th>0</th>\n",
       "      <td>2020-01-06</td>\n",
       "      <td>10:00:00</td>\n",
       "      <td>2020-01-06 10:00:00</td>\n",
       "      <td>100000</td>\n",
       "      <td>2020-01-06 10:00:00</td>\n",
       "      <td>254.75</td>\n",
       "      <td>254.84</td>\n",
       "      <td>253.85</td>\n",
       "      <td>253.85</td>\n",
       "      <td>254.83</td>\n",
       "      <td>254.83</td>\n",
       "      <td>255.41</td>\n",
       "      <td>254.25</td>\n",
       "      <td>0</td>\n",
       "    </tr>\n",
       "    <tr>\n",
       "      <th>1</th>\n",
       "      <td>2020-01-06</td>\n",
       "      <td>10:01:00</td>\n",
       "      <td>2020-01-06 10:01:00</td>\n",
       "      <td>100000</td>\n",
       "      <td>2020-01-06 10:00:00</td>\n",
       "      <td>253.85</td>\n",
       "      <td>254.00</td>\n",
       "      <td>253.03</td>\n",
       "      <td>253.14</td>\n",
       "      <td>254.74</td>\n",
       "      <td>254.80</td>\n",
       "      <td>255.68</td>\n",
       "      <td>253.80</td>\n",
       "      <td>0</td>\n",
       "    </tr>\n",
       "    <tr>\n",
       "      <th>2</th>\n",
       "      <td>2020-01-06</td>\n",
       "      <td>10:02:00</td>\n",
       "      <td>2020-01-06 10:02:00</td>\n",
       "      <td>100000</td>\n",
       "      <td>2020-01-06 10:00:00</td>\n",
       "      <td>253.04</td>\n",
       "      <td>253.60</td>\n",
       "      <td>253.04</td>\n",
       "      <td>253.51</td>\n",
       "      <td>254.66</td>\n",
       "      <td>254.78</td>\n",
       "      <td>255.74</td>\n",
       "      <td>253.58</td>\n",
       "      <td>0</td>\n",
       "    </tr>\n",
       "  </tbody>\n",
       "</table>\n",
       "</div>"
      ],
      "text/plain": [
       "         Date      Time             datetime  Time15                 dt15  \\\n",
       "0  2020-01-06  10:00:00  2020-01-06 10:00:00  100000  2020-01-06 10:00:00   \n",
       "1  2020-01-06  10:01:00  2020-01-06 10:01:00  100000  2020-01-06 10:00:00   \n",
       "2  2020-01-06  10:02:00  2020-01-06 10:02:00  100000  2020-01-06 10:00:00   \n",
       "\n",
       "     Open    High     Low   Close   ma_20   ma_40   BB_up  BB_low  Y  \n",
       "0  254.75  254.84  253.85  253.85  254.83  254.83  255.41  254.25  0  \n",
       "1  253.85  254.00  253.03  253.14  254.74  254.80  255.68  253.80  0  \n",
       "2  253.04  253.60  253.04  253.51  254.66  254.78  255.74  253.58  0  "
      ]
     },
     "execution_count": 26,
     "metadata": {},
     "output_type": "execute_result"
    }
   ],
   "source": [
    "df.head(3)"
   ]
  },
  {
   "cell_type": "code",
   "execution_count": 27,
   "id": "828c8113-f635-4c97-b7b0-4aa90c6b9d75",
   "metadata": {},
   "outputs": [],
   "source": [
    "def classifier(df, stop_coef, coef):\n",
    "    \n",
    "    n_df = np.array(df)\n",
    "    unique_dt15 = df.dt15.unique()            # Получаем уникальные значения dt15\n",
    "    results = []    \n",
    "\n",
    "    for i in range(len(unique_dt15) - 1):\n",
    " \n",
    "        # Фильтруем данные для текущей(df1) и следующей(df2) 15-минутки\n",
    "        df1 = n_df[n_df[:, 4] == unique_dt15[i]].copy()\n",
    "        df2 = n_df[n_df[:, 4] == unique_dt15[i + 1]].copy()\n",
    "\n",
    "        # Вычисления\n",
    "        cl = df1[:, 8][-1]                    # Последний Close текущей 15-минутки\n",
    "        cl_next = df2[:, 8][-1]               # Последний Close следующей 15-мин\n",
    "        high = df2[:, 6].max()                # Максимум следующей 15-минутки\n",
    "        low = df2[:, 7].min()                 # Минимум следующей 15-минутки\n",
    "        dh = (high / cl - 1) * 100            # Дельта хай в процентах от клозы\n",
    "        dl = (low / cl - 1) * 100             # Дельта лой в процентах от клозы\n",
    "        dcl_next = (cl_next / cl - 1) * 100   # Дельта клоз в процентах    \n",
    "    \n",
    "        # Определение Y (класс: 1 - buy, 2 - nothing, 3 - sell)\n",
    "        if dcl_next >= coef and abs(dl) <= stop_coef:\n",
    "            df1[:, -1] = 1\n",
    "        elif dcl_next <= (-coef) and dh <= stop_coef:\n",
    "            df1[:, -1] = 3\n",
    "        else:\n",
    "            df1[:, -1] = 2\n",
    "\n",
    "        # Добавляем в список результатов\n",
    "        results.append(df1)\n",
    "\n",
    "    # Преобразование списка в numpy array перед созданием DataFrame\n",
    "    results_array = np.vstack(results)\n",
    "    \n",
    "    return pd.DataFrame(results_array, columns=df.columns)"
   ]
  },
  {
   "cell_type": "markdown",
   "id": "33cc8d30-db24-4764-bf6e-e7b5cb0bc325",
   "metadata": {},
   "source": [
    "Запускаем нашу функцию для присвоения класов.  \n",
    "Для длины списка уникальных 15-мин (за 1 торг год 2020) `df.dt15.unique()` = 11600, время работы примерно 100 - 120 сек = 2-мин."
   ]
  },
  {
   "cell_type": "code",
   "execution_count": 28,
   "id": "e1fb357d-bf92-43e9-97bd-0a2118fd1a04",
   "metadata": {},
   "outputs": [],
   "source": [
    "# Запускаем нашу функцию для присвоения класов\n",
    "coef = 0.25\n",
    "stop_coef = 0.1\n",
    "df_class = classifier(df, stop_coef, coef)"
   ]
  },
  {
   "cell_type": "markdown",
   "id": "58fecb6d-7386-4658-a4eb-34dc3015ec5f",
   "metadata": {},
   "source": [
    "Глянем сколько получилось объектов каждого класса. Тут будет сильный дисбаланс в пользу класса 2. Примерно 86% 15-мин свечей по логике нашего классификатора это «торговый шум». Логика не идеальна, но приемлема в рамках данного проекта.  \n",
    "Дисбаланс будет устраняться на следующих этапах."
   ]
  },
  {
   "cell_type": "code",
   "execution_count": 41,
   "id": "6f2470aa-e9bb-4cd3-8ee9-1e20623b0454",
   "metadata": {
    "scrolled": true
   },
   "outputs": [
    {
     "data": {
      "text/plain": [
       "Y\n",
       "1     753\n",
       "2    9868\n",
       "3     790\n",
       "Name: dt15, dtype: int64"
      ]
     },
     "execution_count": 41,
     "metadata": {},
     "output_type": "execute_result"
    }
   ],
   "source": [
    "df_class.groupby('Y')['dt15'].nunique()"
   ]
  },
  {
   "cell_type": "markdown",
   "id": "aff7e439-a4f1-4517-b72f-ecb54ca624cb",
   "metadata": {},
   "source": [
    "Итак, этап предварительной подготовки данных завершен. Сохраним итоги работы.  \n",
    "**Точка сохранения 2**"
   ]
  },
  {
   "cell_type": "code",
   "execution_count": 44,
   "id": "c7d32b62-bbd7-4c37-b246-3a3cbc4ffd3c",
   "metadata": {},
   "outputs": [],
   "source": [
    "df_class.to_csv('df_class.csv', index=False, sep=';')"
   ]
  },
  {
   "cell_type": "markdown",
   "id": "5de29e2c-cbb2-4592-bf79-4e11a72d5cd7",
   "metadata": {},
   "source": [
    "Далее переходим на следующие этапы работы с данными (см. следующий файл Pic_and_split):  \n",
    "- Создание изображений в соответствии  с полученной от классификатора разметкой.  \n",
    "- Разбиение датасета из картинок на тренировочную, валидационную и тестовую выборки.\n"
   ]
  },
  {
   "cell_type": "code",
   "execution_count": null,
   "id": "fa256728-9ea8-439d-b60a-be900e7b0c48",
   "metadata": {},
   "outputs": [],
   "source": []
  }
 ],
 "metadata": {
  "kernelspec": {
   "display_name": "Python 3 (ipykernel)",
   "language": "python",
   "name": "python3"
  },
  "language_info": {
   "codemirror_mode": {
    "name": "ipython",
    "version": 3
   },
   "file_extension": ".py",
   "mimetype": "text/x-python",
   "name": "python",
   "nbconvert_exporter": "python",
   "pygments_lexer": "ipython3",
   "version": "3.9.10"
  }
 },
 "nbformat": 4,
 "nbformat_minor": 5
}
